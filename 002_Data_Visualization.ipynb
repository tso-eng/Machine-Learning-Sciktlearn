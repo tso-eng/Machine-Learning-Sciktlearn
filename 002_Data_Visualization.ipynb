{
  "cells": [
    {
      "cell_type": "markdown",
      "metadata": {
        "id": "view-in-github",
        "colab_type": "text"
      },
      "source": [
        "<a href=\"https://colab.research.google.com/github/tso-eng/Machine-Learning-Sciktlearn/blob/main/002_Data_Visualization.ipynb\" target=\"_parent\"><img src=\"https://colab.research.google.com/assets/colab-badge.svg\" alt=\"Open In Colab\"/></a>"
      ]
    },
    {
      "cell_type": "markdown",
      "id": "70d95c4e",
      "metadata": {
        "id": "70d95c4e"
      },
      "source": [
        "# Importing Dataset and Making some simple Data Analysis"
      ]
    },
    {
      "cell_type": "markdown",
      "id": "caed6ca2",
      "metadata": {
        "id": "caed6ca2"
      },
      "source": [
        "## Importing basic libraries"
      ]
    },
    {
      "cell_type": "code",
      "execution_count": null,
      "id": "70dc5a40",
      "metadata": {
        "id": "70dc5a40"
      },
      "outputs": [],
      "source": [
        "import numpy as np\n",
        "import pandas as pd\n",
        "\n",
        "import matplotlib.pyplot as plt\n",
        "import seaborn as sns\n",
        "import plotly.express as px"
      ]
    },
    {
      "cell_type": "markdown",
      "id": "3d73ff0f",
      "metadata": {
        "id": "3d73ff0f"
      },
      "source": [
        "## Importing Dataset"
      ]
    },
    {
      "cell_type": "code",
      "execution_count": null,
      "id": "8d3aee0c",
      "metadata": {
        "id": "8d3aee0c"
      },
      "outputs": [],
      "source": [
        "df = pd.read_excel('002-Dataset.xlsx')"
      ]
    },
    {
      "cell_type": "markdown",
      "id": "f1431e77",
      "metadata": {
        "id": "f1431e77"
      },
      "source": [
        "## First look into your Dataset"
      ]
    },
    {
      "cell_type": "code",
      "execution_count": null,
      "id": "_J6WhKzz64WG",
      "metadata": {
        "id": "_J6WhKzz64WG"
      },
      "outputs": [],
      "source": [
        "df"
      ]
    },
    {
      "cell_type": "markdown",
      "id": "d96fdf40",
      "metadata": {
        "id": "d96fdf40"
      },
      "source": [
        "## Dataset Describe"
      ]
    },
    {
      "cell_type": "markdown",
      "id": "8f702969",
      "metadata": {
        "id": "8f702969"
      },
      "source": [
        "Descriptive statistics include those that summarize the central tendency, dispersion and shape of a dataset’s distribution, excluding NaN values"
      ]
    },
    {
      "cell_type": "code",
      "execution_count": null,
      "id": "38fbf631",
      "metadata": {
        "id": "38fbf631"
      },
      "outputs": [],
      "source": [
        "df.describe()"
      ]
    },
    {
      "cell_type": "markdown",
      "id": "1cdf86b4",
      "metadata": {
        "id": "1cdf86b4"
      },
      "source": [
        "## Correlation Matrix"
      ]
    },
    {
      "cell_type": "markdown",
      "id": "282e11f1",
      "metadata": {
        "id": "282e11f1"
      },
      "source": [
        "Compute pairwise correlation of columns"
      ]
    },
    {
      "cell_type": "code",
      "execution_count": null,
      "id": "0d70b361",
      "metadata": {
        "id": "0d70b361"
      },
      "outputs": [],
      "source": [
        "hm = sns.heatmap(df.corr(), annot = True)\n",
        "hm.set(title = \"Correlation Matrix \\n\")"
      ]
    },
    {
      "cell_type": "markdown",
      "id": "0c7d6e17",
      "metadata": {
        "id": "0c7d6e17"
      },
      "source": [
        "## Boxplot"
      ]
    },
    {
      "cell_type": "markdown",
      "id": "1dbca79c",
      "metadata": {
        "id": "1dbca79c"
      },
      "source": [
        "Make a box-and-whisker plot from DataFrame columns.\n",
        "A box plot is a method for graphically depicting groups of numerical data through their quartiles. The box extends from the Q1 to Q3 quartile values of the data, with a line at the median (Q2). The whiskers extend from the edges of box to show the range of the data. By default, they extend no more than 1.5 * IQR (IQR = Q3 - Q1) from the edges of the box, ending at the farthest data point within that interval. Outliers are plotted as separate dots."
      ]
    },
    {
      "cell_type": "code",
      "execution_count": null,
      "id": "87e5788c",
      "metadata": {
        "id": "87e5788c"
      },
      "outputs": [],
      "source": [
        "df.boxplot(grid=False, rot=90, fontsize=15)"
      ]
    },
    {
      "cell_type": "markdown",
      "id": "beaf2743",
      "metadata": {
        "id": "beaf2743"
      },
      "source": [
        "## Pairplot"
      ]
    },
    {
      "cell_type": "markdown",
      "id": "db2f0c15",
      "metadata": {
        "id": "db2f0c15"
      },
      "source": [
        "Plot pairwise relationships in a dataset."
      ]
    },
    {
      "cell_type": "code",
      "execution_count": null,
      "id": "30fead6b",
      "metadata": {
        "id": "30fead6b"
      },
      "outputs": [],
      "source": [
        "plt.figure(figsize=(10,10))\n",
        "sns.pairplot(df)"
      ]
    },
    {
      "cell_type": "markdown",
      "id": "a8904dec",
      "metadata": {
        "id": "a8904dec"
      },
      "source": [
        "## Parallel Coordinates Plot"
      ]
    },
    {
      "cell_type": "markdown",
      "id": "11b360a6",
      "metadata": {
        "id": "11b360a6"
      },
      "source": [
        "In a parallel coordinates plot with px.parallel_coordinates, each row of the DataFrame is represented by a polyline mark which traverses a set of parallel axes, one for each of the dimensions"
      ]
    },
    {
      "cell_type": "code",
      "execution_count": null,
      "id": "32a25a8a",
      "metadata": {
        "id": "32a25a8a"
      },
      "outputs": [],
      "source": [
        "column_names = list(df)"
      ]
    },
    {
      "cell_type": "code",
      "execution_count": null,
      "id": "3e56dd86",
      "metadata": {
        "id": "3e56dd86"
      },
      "outputs": [],
      "source": [
        "fig = px.parallel_coordinates(df, color=column_names[-1], dimensions=column_names, title=\"Parallel Coordinates Plot\")\n",
        "fig.show()"
      ]
    },
    {
      "cell_type": "code",
      "execution_count": null,
      "id": "c4fb3dbf",
      "metadata": {
        "id": "c4fb3dbf"
      },
      "outputs": [],
      "source": []
    }
  ],
  "metadata": {
    "colab": {
      "provenance": [],
      "include_colab_link": true
    },
    "hide_input": false,
    "kernelspec": {
      "display_name": "Python 3 (ipykernel)",
      "language": "python",
      "name": "python3"
    },
    "language_info": {
      "codemirror_mode": {
        "name": "ipython",
        "version": 3
      },
      "file_extension": ".py",
      "mimetype": "text/x-python",
      "name": "python",
      "nbconvert_exporter": "python",
      "pygments_lexer": "ipython3",
      "version": "3.9.16"
    }
  },
  "nbformat": 4,
  "nbformat_minor": 5
}