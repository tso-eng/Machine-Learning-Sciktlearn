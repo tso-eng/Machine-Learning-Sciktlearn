{
  "cells": [
    {
      "cell_type": "markdown",
      "metadata": {
        "id": "view-in-github",
        "colab_type": "text"
      },
      "source": [
        "<a href=\"https://colab.research.google.com/github/tso-eng/Machine-Learning-Sciktlearn/blob/main/Aula_03_Importando_dados_de_um_Dataset_Excel.ipynb\" target=\"_parent\"><img src=\"https://colab.research.google.com/assets/colab-badge.svg\" alt=\"Open In Colab\"/></a>"
      ]
    },
    {
      "cell_type": "markdown",
      "id": "70d95c4e",
      "metadata": {
        "id": "70d95c4e"
      },
      "source": [
        "# Importing Dataset and Making some simple Data Analysis"
      ]
    },
    {
      "cell_type": "markdown",
      "id": "caed6ca2",
      "metadata": {
        "id": "caed6ca2"
      },
      "source": [
        "## Importing basic libraries"
      ]
    },
    {
      "cell_type": "code",
      "execution_count": null,
      "id": "70dc5a40",
      "metadata": {
        "id": "70dc5a40"
      },
      "outputs": [],
      "source": [
        "import numpy as np\n",
        "import pandas as pd\n",
        "\n",
        "import matplotlib.pyplot as plt\n",
        "import seaborn as sns\n",
        "import plotly.express as px"
      ]
    },
    {
      "cell_type": "markdown",
      "id": "3d73ff0f",
      "metadata": {
        "id": "3d73ff0f"
      },
      "source": [
        "## Importing Dataset"
      ]
    },
    {
      "cell_type": "code",
      "execution_count": null,
      "id": "8d3aee0c",
      "metadata": {
        "id": "8d3aee0c"
      },
      "outputs": [],
      "source": [
        "df = pd.read_excel('001-Dataset.xlsx')"
      ]
    },
    {
      "cell_type": "markdown",
      "id": "f1431e77",
      "metadata": {
        "id": "f1431e77"
      },
      "source": [
        "## First look into your Dataset"
      ]
    },
    {
      "cell_type": "code",
      "execution_count": null,
      "id": "_J6WhKzz64WG",
      "metadata": {
        "id": "_J6WhKzz64WG",
        "outputId": "a91e21e9-2cef-465f-b116-f9f5542ad991"
      },
      "outputs": [
        {
          "data": {
            "text/html": [
              "<div>\n",
              "<style scoped>\n",
              "    .dataframe tbody tr th:only-of-type {\n",
              "        vertical-align: middle;\n",
              "    }\n",
              "\n",
              "    .dataframe tbody tr th {\n",
              "        vertical-align: top;\n",
              "    }\n",
              "\n",
              "    .dataframe thead th {\n",
              "        text-align: right;\n",
              "    }\n",
              "</style>\n",
              "<table border=\"1\" class=\"dataframe\">\n",
              "  <thead>\n",
              "    <tr style=\"text-align: right;\">\n",
              "      <th></th>\n",
              "      <th>u1</th>\n",
              "      <th>u2</th>\n",
              "      <th>u3</th>\n",
              "      <th>u4</th>\n",
              "      <th>u5</th>\n",
              "      <th>u6</th>\n",
              "      <th>u7</th>\n",
              "      <th>y</th>\n",
              "    </tr>\n",
              "  </thead>\n",
              "  <tbody>\n",
              "    <tr>\n",
              "      <th>0</th>\n",
              "      <td>0.268900</td>\n",
              "      <td>0.650894</td>\n",
              "      <td>0.832742</td>\n",
              "      <td>0.583420</td>\n",
              "      <td>0.784759</td>\n",
              "      <td>0.843079</td>\n",
              "      <td>0.822079</td>\n",
              "      <td>0.180295</td>\n",
              "    </tr>\n",
              "    <tr>\n",
              "      <th>1</th>\n",
              "      <td>0.268483</td>\n",
              "      <td>0.650140</td>\n",
              "      <td>0.852153</td>\n",
              "      <td>0.577510</td>\n",
              "      <td>0.776487</td>\n",
              "      <td>0.838605</td>\n",
              "      <td>0.822079</td>\n",
              "      <td>0.177124</td>\n",
              "    </tr>\n",
              "    <tr>\n",
              "      <th>2</th>\n",
              "      <td>0.267967</td>\n",
              "      <td>0.659657</td>\n",
              "      <td>0.823618</td>\n",
              "      <td>0.571600</td>\n",
              "      <td>0.764546</td>\n",
              "      <td>0.807879</td>\n",
              "      <td>0.786246</td>\n",
              "      <td>0.173618</td>\n",
              "    </tr>\n",
              "    <tr>\n",
              "      <th>3</th>\n",
              "      <td>0.267451</td>\n",
              "      <td>0.668338</td>\n",
              "      <td>0.808371</td>\n",
              "      <td>0.565689</td>\n",
              "      <td>0.752605</td>\n",
              "      <td>0.799606</td>\n",
              "      <td>0.786246</td>\n",
              "      <td>0.171640</td>\n",
              "    </tr>\n",
              "    <tr>\n",
              "      <th>4</th>\n",
              "      <td>0.266935</td>\n",
              "      <td>0.647191</td>\n",
              "      <td>0.761948</td>\n",
              "      <td>0.559779</td>\n",
              "      <td>0.745326</td>\n",
              "      <td>0.773122</td>\n",
              "      <td>0.746142</td>\n",
              "      <td>0.166972</td>\n",
              "    </tr>\n",
              "    <tr>\n",
              "      <th>...</th>\n",
              "      <td>...</td>\n",
              "      <td>...</td>\n",
              "      <td>...</td>\n",
              "      <td>...</td>\n",
              "      <td>...</td>\n",
              "      <td>...</td>\n",
              "      <td>...</td>\n",
              "      <td>...</td>\n",
              "    </tr>\n",
              "    <tr>\n",
              "      <th>2389</th>\n",
              "      <td>0.284859</td>\n",
              "      <td>0.645894</td>\n",
              "      <td>0.688723</td>\n",
              "      <td>0.355109</td>\n",
              "      <td>0.615583</td>\n",
              "      <td>0.608848</td>\n",
              "      <td>0.500866</td>\n",
              "      <td>0.188976</td>\n",
              "    </tr>\n",
              "    <tr>\n",
              "      <th>2390</th>\n",
              "      <td>0.266139</td>\n",
              "      <td>0.665503</td>\n",
              "      <td>0.665640</td>\n",
              "      <td>0.354275</td>\n",
              "      <td>0.588834</td>\n",
              "      <td>0.582074</td>\n",
              "      <td>0.508999</td>\n",
              "      <td>0.178992</td>\n",
              "    </tr>\n",
              "    <tr>\n",
              "      <th>2391</th>\n",
              "      <td>0.247419</td>\n",
              "      <td>0.665706</td>\n",
              "      <td>0.664740</td>\n",
              "      <td>0.353441</td>\n",
              "      <td>0.561301</td>\n",
              "      <td>0.602186</td>\n",
              "      <td>0.523348</td>\n",
              "      <td>0.169742</td>\n",
              "    </tr>\n",
              "    <tr>\n",
              "      <th>2392</th>\n",
              "      <td>0.228699</td>\n",
              "      <td>0.672975</td>\n",
              "      <td>0.677300</td>\n",
              "      <td>0.352607</td>\n",
              "      <td>0.530730</td>\n",
              "      <td>0.636970</td>\n",
              "      <td>0.537697</td>\n",
              "      <td>0.159023</td>\n",
              "    </tr>\n",
              "    <tr>\n",
              "      <th>2393</th>\n",
              "      <td>0.215821</td>\n",
              "      <td>0.668945</td>\n",
              "      <td>0.677877</td>\n",
              "      <td>0.351774</td>\n",
              "      <td>0.500161</td>\n",
              "      <td>0.684994</td>\n",
              "      <td>0.569601</td>\n",
              "      <td>0.149922</td>\n",
              "    </tr>\n",
              "  </tbody>\n",
              "</table>\n",
              "<p>2394 rows × 8 columns</p>\n",
              "</div>"
            ],
            "text/plain": [
              "            u1        u2        u3        u4        u5        u6        u7   \n",
              "0     0.268900  0.650894  0.832742  0.583420  0.784759  0.843079  0.822079  \\\n",
              "1     0.268483  0.650140  0.852153  0.577510  0.776487  0.838605  0.822079   \n",
              "2     0.267967  0.659657  0.823618  0.571600  0.764546  0.807879  0.786246   \n",
              "3     0.267451  0.668338  0.808371  0.565689  0.752605  0.799606  0.786246   \n",
              "4     0.266935  0.647191  0.761948  0.559779  0.745326  0.773122  0.746142   \n",
              "...        ...       ...       ...       ...       ...       ...       ...   \n",
              "2389  0.284859  0.645894  0.688723  0.355109  0.615583  0.608848  0.500866   \n",
              "2390  0.266139  0.665503  0.665640  0.354275  0.588834  0.582074  0.508999   \n",
              "2391  0.247419  0.665706  0.664740  0.353441  0.561301  0.602186  0.523348   \n",
              "2392  0.228699  0.672975  0.677300  0.352607  0.530730  0.636970  0.537697   \n",
              "2393  0.215821  0.668945  0.677877  0.351774  0.500161  0.684994  0.569601   \n",
              "\n",
              "             y  \n",
              "0     0.180295  \n",
              "1     0.177124  \n",
              "2     0.173618  \n",
              "3     0.171640  \n",
              "4     0.166972  \n",
              "...        ...  \n",
              "2389  0.188976  \n",
              "2390  0.178992  \n",
              "2391  0.169742  \n",
              "2392  0.159023  \n",
              "2393  0.149922  \n",
              "\n",
              "[2394 rows x 8 columns]"
            ]
          },
          "execution_count": 3,
          "metadata": {},
          "output_type": "execute_result"
        }
      ],
      "source": [
        "df"
      ]
    },
    {
      "cell_type": "markdown",
      "id": "d96fdf40",
      "metadata": {
        "id": "d96fdf40"
      },
      "source": [
        "## Dataset Describe"
      ]
    },
    {
      "cell_type": "markdown",
      "id": "8f702969",
      "metadata": {
        "id": "8f702969"
      },
      "source": [
        "Descriptive statistics include those that summarize the central tendency, dispersion and shape of a dataset’s distribution, excluding NaN values"
      ]
    },
    {
      "cell_type": "code",
      "execution_count": null,
      "id": "38fbf631",
      "metadata": {
        "id": "38fbf631",
        "outputId": "b98d8d61-0d3b-49be-9088-f49b72328811"
      },
      "outputs": [
        {
          "data": {
            "text/html": [
              "<div>\n",
              "<style scoped>\n",
              "    .dataframe tbody tr th:only-of-type {\n",
              "        vertical-align: middle;\n",
              "    }\n",
              "\n",
              "    .dataframe tbody tr th {\n",
              "        vertical-align: top;\n",
              "    }\n",
              "\n",
              "    .dataframe thead th {\n",
              "        text-align: right;\n",
              "    }\n",
              "</style>\n",
              "<table border=\"1\" class=\"dataframe\">\n",
              "  <thead>\n",
              "    <tr style=\"text-align: right;\">\n",
              "      <th></th>\n",
              "      <th>u1</th>\n",
              "      <th>u2</th>\n",
              "      <th>u3</th>\n",
              "      <th>u4</th>\n",
              "      <th>u5</th>\n",
              "      <th>u6</th>\n",
              "      <th>u7</th>\n",
              "      <th>y</th>\n",
              "    </tr>\n",
              "  </thead>\n",
              "  <tbody>\n",
              "    <tr>\n",
              "      <th>count</th>\n",
              "      <td>2394.000000</td>\n",
              "      <td>2394.000000</td>\n",
              "      <td>2394.000000</td>\n",
              "      <td>2394.000000</td>\n",
              "      <td>2394.000000</td>\n",
              "      <td>2394.000000</td>\n",
              "      <td>2394.000000</td>\n",
              "      <td>2394.000000</td>\n",
              "    </tr>\n",
              "    <tr>\n",
              "      <th>mean</th>\n",
              "      <td>0.283894</td>\n",
              "      <td>0.667847</td>\n",
              "      <td>0.598467</td>\n",
              "      <td>0.435948</td>\n",
              "      <td>0.658086</td>\n",
              "      <td>0.620741</td>\n",
              "      <td>0.589397</td>\n",
              "      <td>0.267788</td>\n",
              "    </tr>\n",
              "    <tr>\n",
              "      <th>std</th>\n",
              "      <td>0.103143</td>\n",
              "      <td>0.057690</td>\n",
              "      <td>0.198581</td>\n",
              "      <td>0.138237</td>\n",
              "      <td>0.127054</td>\n",
              "      <td>0.165116</td>\n",
              "      <td>0.173251</td>\n",
              "      <td>0.158943</td>\n",
              "    </tr>\n",
              "    <tr>\n",
              "      <th>min</th>\n",
              "      <td>0.000000</td>\n",
              "      <td>0.000000</td>\n",
              "      <td>0.000000</td>\n",
              "      <td>0.000000</td>\n",
              "      <td>0.000000</td>\n",
              "      <td>0.000000</td>\n",
              "      <td>0.000000</td>\n",
              "      <td>0.000000</td>\n",
              "    </tr>\n",
              "    <tr>\n",
              "      <th>25%</th>\n",
              "      <td>0.224004</td>\n",
              "      <td>0.653819</td>\n",
              "      <td>0.500390</td>\n",
              "      <td>0.363369</td>\n",
              "      <td>0.608661</td>\n",
              "      <td>0.481804</td>\n",
              "      <td>0.445001</td>\n",
              "      <td>0.169188</td>\n",
              "    </tr>\n",
              "    <tr>\n",
              "      <th>50%</th>\n",
              "      <td>0.263995</td>\n",
              "      <td>0.671915</td>\n",
              "      <td>0.624269</td>\n",
              "      <td>0.396288</td>\n",
              "      <td>0.694644</td>\n",
              "      <td>0.639585</td>\n",
              "      <td>0.600959</td>\n",
              "      <td>0.246857</td>\n",
              "    </tr>\n",
              "    <tr>\n",
              "      <th>75%</th>\n",
              "      <td>0.325607</td>\n",
              "      <td>0.690943</td>\n",
              "      <td>0.742784</td>\n",
              "      <td>0.518144</td>\n",
              "      <td>0.730119</td>\n",
              "      <td>0.755050</td>\n",
              "      <td>0.741387</td>\n",
              "      <td>0.318061</td>\n",
              "    </tr>\n",
              "    <tr>\n",
              "      <th>max</th>\n",
              "      <td>1.000000</td>\n",
              "      <td>1.000000</td>\n",
              "      <td>1.000000</td>\n",
              "      <td>1.000000</td>\n",
              "      <td>1.000000</td>\n",
              "      <td>1.000000</td>\n",
              "      <td>1.000000</td>\n",
              "      <td>1.000000</td>\n",
              "    </tr>\n",
              "  </tbody>\n",
              "</table>\n",
              "</div>"
            ],
            "text/plain": [
              "                u1           u2           u3           u4           u5   \n",
              "count  2394.000000  2394.000000  2394.000000  2394.000000  2394.000000  \\\n",
              "mean      0.283894     0.667847     0.598467     0.435948     0.658086   \n",
              "std       0.103143     0.057690     0.198581     0.138237     0.127054   \n",
              "min       0.000000     0.000000     0.000000     0.000000     0.000000   \n",
              "25%       0.224004     0.653819     0.500390     0.363369     0.608661   \n",
              "50%       0.263995     0.671915     0.624269     0.396288     0.694644   \n",
              "75%       0.325607     0.690943     0.742784     0.518144     0.730119   \n",
              "max       1.000000     1.000000     1.000000     1.000000     1.000000   \n",
              "\n",
              "                u6           u7            y  \n",
              "count  2394.000000  2394.000000  2394.000000  \n",
              "mean      0.620741     0.589397     0.267788  \n",
              "std       0.165116     0.173251     0.158943  \n",
              "min       0.000000     0.000000     0.000000  \n",
              "25%       0.481804     0.445001     0.169188  \n",
              "50%       0.639585     0.600959     0.246857  \n",
              "75%       0.755050     0.741387     0.318061  \n",
              "max       1.000000     1.000000     1.000000  "
            ]
          },
          "execution_count": 4,
          "metadata": {},
          "output_type": "execute_result"
        }
      ],
      "source": [
        "df.describe()"
      ]
    }
  ],
  "metadata": {
    "colab": {
      "provenance": [],
      "include_colab_link": true
    },
    "hide_input": false,
    "kernelspec": {
      "display_name": "Python 3 (ipykernel)",
      "language": "python",
      "name": "python3"
    },
    "language_info": {
      "codemirror_mode": {
        "name": "ipython",
        "version": 3
      },
      "file_extension": ".py",
      "mimetype": "text/x-python",
      "name": "python",
      "nbconvert_exporter": "python",
      "pygments_lexer": "ipython3",
      "version": "3.9.16"
    }
  },
  "nbformat": 4,
  "nbformat_minor": 5
}