{
  "cells": [
    {
      "cell_type": "markdown",
      "metadata": {
        "id": "view-in-github",
        "colab_type": "text"
      },
      "source": [
        "<a href=\"https://colab.research.google.com/github/tso-eng/Machine-Learning-Sciktlearn/blob/main/003_Data_Cleaning_and_Remove_Outliers.ipynb\" target=\"_parent\"><img src=\"https://colab.research.google.com/assets/colab-badge.svg\" alt=\"Open In Colab\"/></a>"
      ]
    },
    {
      "cell_type": "markdown",
      "id": "70d95c4e",
      "metadata": {
        "id": "70d95c4e"
      },
      "source": [
        "# Data Cleaning and Remove Outliers"
      ]
    },
    {
      "cell_type": "markdown",
      "id": "caed6ca2",
      "metadata": {
        "id": "caed6ca2"
      },
      "source": [
        "## Importing basic libraries"
      ]
    },
    {
      "cell_type": "code",
      "execution_count": null,
      "id": "70dc5a40",
      "metadata": {
        "id": "70dc5a40"
      },
      "outputs": [],
      "source": [
        "import numpy as np\n",
        "import pandas as pd\n",
        "import matplotlib.pyplot as plt"
      ]
    },
    {
      "cell_type": "markdown",
      "id": "3d73ff0f",
      "metadata": {
        "id": "3d73ff0f"
      },
      "source": [
        "## Importing Dataset"
      ]
    },
    {
      "cell_type": "code",
      "execution_count": null,
      "id": "8d3aee0c",
      "metadata": {
        "id": "8d3aee0c",
        "outputId": "6c7c6dd3-a00e-4aa5-e44c-faacef452d4a"
      },
      "outputs": [
        {
          "ename": "NameError",
          "evalue": "name 'pd' is not defined",
          "output_type": "error",
          "traceback": [
            "\u001b[1;31m---------------------------------------------------------------------------\u001b[0m",
            "\u001b[1;31mNameError\u001b[0m                                 Traceback (most recent call last)",
            "\u001b[1;32m~\\AppData\\Local\\Temp\\ipykernel_26108\\2654583920.py\u001b[0m in \u001b[0;36m<module>\u001b[1;34m\u001b[0m\n\u001b[1;32m----> 1\u001b[1;33m \u001b[0mdf\u001b[0m \u001b[1;33m=\u001b[0m \u001b[0mpd\u001b[0m\u001b[1;33m.\u001b[0m\u001b[0mread_excel\u001b[0m\u001b[1;33m(\u001b[0m\u001b[1;34m'003-Dataset.xlsx'\u001b[0m\u001b[1;33m)\u001b[0m\u001b[1;33m\u001b[0m\u001b[1;33m\u001b[0m\u001b[0m\n\u001b[0m",
            "\u001b[1;31mNameError\u001b[0m: name 'pd' is not defined"
          ]
        }
      ],
      "source": [
        "df = pd.read_excel('003-Dataset.xlsx')"
      ]
    },
    {
      "cell_type": "code",
      "execution_count": null,
      "id": "07218d77",
      "metadata": {
        "id": "07218d77"
      },
      "outputs": [],
      "source": [
        "df"
      ]
    },
    {
      "cell_type": "markdown",
      "id": "d96fdf40",
      "metadata": {
        "id": "d96fdf40"
      },
      "source": [
        "## Remove Outliers"
      ]
    },
    {
      "cell_type": "markdown",
      "id": "8f702969",
      "metadata": {
        "id": "8f702969"
      },
      "source": [
        "Descriptive statistics include those that summarize the central tendency, dispersion and shape of a dataset’s distribution, excluding NaN values"
      ]
    },
    {
      "cell_type": "code",
      "execution_count": null,
      "id": "38fbf631",
      "metadata": {
        "id": "38fbf631"
      },
      "outputs": [],
      "source": [
        "column_names = list(df)"
      ]
    },
    {
      "cell_type": "code",
      "execution_count": null,
      "id": "cb17c545",
      "metadata": {
        "id": "cb17c545"
      },
      "outputs": [],
      "source": [
        "column_names"
      ]
    },
    {
      "cell_type": "code",
      "execution_count": null,
      "id": "c4fb3dbf",
      "metadata": {
        "id": "c4fb3dbf"
      },
      "outputs": [],
      "source": [
        "for names in column_names[0:]:\n",
        "    for x in [names]:\n",
        "        q75,q25 = np.percentile(df.loc[:,x],[75,25])\n",
        "        intr_qr = q75-q25\n",
        "\n",
        "        max = q75+(1.5*intr_qr)\n",
        "        min = q25-(1.5*intr_qr)\n",
        "\n",
        "        df.loc[df[x] < min,x] = np.nan\n",
        "        df.loc[df[x] > max,x] = np.nan"
      ]
    },
    {
      "cell_type": "markdown",
      "id": "356f7ee5",
      "metadata": {
        "id": "356f7ee5"
      },
      "source": [
        "### Outliers are replaced by NaN (np.nan) in ndarray"
      ]
    },
    {
      "cell_type": "code",
      "execution_count": null,
      "id": "4700dfbc",
      "metadata": {
        "id": "4700dfbc"
      },
      "outputs": [],
      "source": [
        "df.isnull().sum()"
      ]
    },
    {
      "cell_type": "markdown",
      "id": "6e1fe762",
      "metadata": {
        "id": "6e1fe762"
      },
      "source": [
        "### Delete again rows with empty data (nan)"
      ]
    },
    {
      "cell_type": "code",
      "execution_count": null,
      "id": "296a60e1",
      "metadata": {
        "id": "296a60e1"
      },
      "outputs": [],
      "source": [
        "df = df.dropna(axis = 0)"
      ]
    },
    {
      "cell_type": "code",
      "execution_count": null,
      "id": "d1a3048c",
      "metadata": {
        "id": "d1a3048c"
      },
      "outputs": [],
      "source": [
        "df.isnull().sum()"
      ]
    },
    {
      "cell_type": "code",
      "execution_count": null,
      "id": "3414ad64",
      "metadata": {
        "id": "3414ad64"
      },
      "outputs": [],
      "source": [
        "df"
      ]
    },
    {
      "cell_type": "markdown",
      "id": "90fc0ca2",
      "metadata": {
        "id": "90fc0ca2"
      },
      "source": [
        "### Save Cleaned Dataset"
      ]
    },
    {
      "cell_type": "code",
      "execution_count": null,
      "id": "d5579983",
      "metadata": {
        "id": "d5579983"
      },
      "outputs": [],
      "source": [
        "df.to_excel(\"003-Dataset_No_Outliers.xlsx\")"
      ]
    },
    {
      "cell_type": "code",
      "execution_count": null,
      "id": "75a7141e",
      "metadata": {
        "id": "75a7141e"
      },
      "outputs": [],
      "source": []
    }
  ],
  "metadata": {
    "colab": {
      "provenance": [],
      "include_colab_link": true
    },
    "hide_input": false,
    "kernelspec": {
      "display_name": "Python 3 (ipykernel)",
      "language": "python",
      "name": "python3"
    },
    "language_info": {
      "codemirror_mode": {
        "name": "ipython",
        "version": 3
      },
      "file_extension": ".py",
      "mimetype": "text/x-python",
      "name": "python",
      "nbconvert_exporter": "python",
      "pygments_lexer": "ipython3",
      "version": "3.9.16"
    }
  },
  "nbformat": 4,
  "nbformat_minor": 5
}