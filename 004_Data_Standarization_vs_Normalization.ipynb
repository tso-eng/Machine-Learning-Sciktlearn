{
  "cells": [
    {
      "cell_type": "markdown",
      "metadata": {
        "id": "view-in-github",
        "colab_type": "text"
      },
      "source": [
        "<a href=\"https://colab.research.google.com/github/tso-eng/Machine-Learning-Sciktlearn/blob/main/004_Data_Standarization_vs_Normalization.ipynb\" target=\"_parent\"><img src=\"https://colab.research.google.com/assets/colab-badge.svg\" alt=\"Open In Colab\"/></a>"
      ]
    },
    {
      "cell_type": "markdown",
      "id": "70d95c4e",
      "metadata": {
        "id": "70d95c4e"
      },
      "source": [
        "# Data Standarization vs Normalization\n"
      ]
    },
    {
      "cell_type": "markdown",
      "id": "caed6ca2",
      "metadata": {
        "id": "caed6ca2"
      },
      "source": [
        "### Importing the libraries"
      ]
    },
    {
      "cell_type": "code",
      "execution_count": null,
      "id": "70dc5a40",
      "metadata": {
        "id": "70dc5a40"
      },
      "outputs": [],
      "source": [
        "import numpy as np\n",
        "import pandas as pd\n",
        "import matplotlib.pyplot as plt"
      ]
    },
    {
      "cell_type": "markdown",
      "id": "7ec3d05f",
      "metadata": {
        "id": "7ec3d05f"
      },
      "source": [
        "### Importing Dataset"
      ]
    },
    {
      "cell_type": "code",
      "execution_count": null,
      "id": "8d3aee0c",
      "metadata": {
        "id": "8d3aee0c"
      },
      "outputs": [],
      "source": [
        "df = pd.read_excel('004-Dataset(a).xlsx')"
      ]
    },
    {
      "cell_type": "code",
      "execution_count": null,
      "id": "a5490708",
      "metadata": {
        "id": "a5490708"
      },
      "outputs": [],
      "source": [
        "df"
      ]
    },
    {
      "cell_type": "code",
      "execution_count": null,
      "id": "fb2298bd",
      "metadata": {
        "id": "fb2298bd"
      },
      "outputs": [],
      "source": [
        "df.describe()"
      ]
    },
    {
      "cell_type": "code",
      "execution_count": null,
      "id": "aa41b058",
      "metadata": {
        "id": "aa41b058"
      },
      "outputs": [],
      "source": [
        "ax = df.plot.kde()"
      ]
    },
    {
      "cell_type": "markdown",
      "id": "223714d7",
      "metadata": {
        "id": "223714d7"
      },
      "source": [
        "### Standarization vs Normalization"
      ]
    },
    {
      "cell_type": "code",
      "execution_count": null,
      "id": "203c4e24",
      "metadata": {
        "id": "203c4e24"
      },
      "outputs": [],
      "source": [
        "minvalue_series = df.min()\n",
        "maxvalue_series = df.max()\n",
        "stdvalue_series = df.std()\n",
        "meanvalue_series = df.mean()"
      ]
    },
    {
      "cell_type": "code",
      "execution_count": null,
      "id": "84ae3d2c",
      "metadata": {
        "id": "84ae3d2c"
      },
      "outputs": [],
      "source": [
        "print(minvalue_series[0])\n",
        "print(maxvalue_series[0])\n",
        "print(stdvalue_series[0])\n",
        "print(meanvalue_series[0])"
      ]
    },
    {
      "cell_type": "code",
      "execution_count": null,
      "id": "3ae08f17",
      "metadata": {
        "id": "3ae08f17"
      },
      "outputs": [],
      "source": [
        "df.iloc[0,0]"
      ]
    },
    {
      "cell_type": "code",
      "execution_count": null,
      "id": "643142f3",
      "metadata": {
        "id": "643142f3"
      },
      "outputs": [],
      "source": [
        "x_Normalization = (df.iloc[0,0]-minvalue_series[0])/(maxvalue_series[0]-minvalue_series[0])\n",
        "x_Normalization"
      ]
    },
    {
      "cell_type": "code",
      "execution_count": null,
      "id": "12bb5061",
      "metadata": {
        "id": "12bb5061"
      },
      "outputs": [],
      "source": [
        "x_Standardization = (df.iloc[0,0]-meanvalue_series[0])/stdvalue_series[0]\n",
        "x_Standardization"
      ]
    },
    {
      "cell_type": "markdown",
      "id": "5f9466cf",
      "metadata": {
        "id": "5f9466cf"
      },
      "source": [
        "### Data Standardization"
      ]
    },
    {
      "cell_type": "code",
      "execution_count": null,
      "id": "b6df63a7",
      "metadata": {
        "id": "b6df63a7"
      },
      "outputs": [],
      "source": [
        "from sklearn.preprocessing import StandardScaler"
      ]
    },
    {
      "cell_type": "markdown",
      "id": "8354f285",
      "metadata": {
        "id": "8354f285"
      },
      "source": [
        "StandardScaler:\n",
        "\n",
        "https://scikit-learn.org/stable/modules/generated/sklearn.preprocessing.StandardScaler.html"
      ]
    },
    {
      "cell_type": "code",
      "execution_count": null,
      "id": "cbec9fef",
      "metadata": {
        "id": "cbec9fef"
      },
      "outputs": [],
      "source": [
        "scaler = StandardScaler()"
      ]
    },
    {
      "cell_type": "code",
      "execution_count": null,
      "id": "5591bfc0",
      "metadata": {
        "id": "5591bfc0"
      },
      "outputs": [],
      "source": [
        "scaler.fit(df)"
      ]
    },
    {
      "cell_type": "code",
      "execution_count": null,
      "id": "535deaac",
      "metadata": {
        "id": "535deaac"
      },
      "outputs": [],
      "source": [
        "scaler.transform(df)"
      ]
    },
    {
      "cell_type": "code",
      "execution_count": null,
      "id": "1ed48a85",
      "metadata": {
        "id": "1ed48a85"
      },
      "outputs": [],
      "source": [
        "ScalerData = pd.DataFrame(data=scaler.transform(df))\n",
        "ScalerData.columns = ['X1', 'X2', 'Y']"
      ]
    },
    {
      "cell_type": "code",
      "execution_count": null,
      "id": "77008036",
      "metadata": {
        "id": "77008036"
      },
      "outputs": [],
      "source": [
        "ScalerData"
      ]
    },
    {
      "cell_type": "code",
      "execution_count": null,
      "id": "117140da",
      "metadata": {
        "id": "117140da"
      },
      "outputs": [],
      "source": [
        "ScalerData.describe()"
      ]
    },
    {
      "cell_type": "code",
      "execution_count": null,
      "id": "14bfdaef",
      "metadata": {
        "id": "14bfdaef"
      },
      "outputs": [],
      "source": [
        "ax = ScalerData.plot.kde()"
      ]
    },
    {
      "cell_type": "markdown",
      "id": "5000ad34",
      "metadata": {
        "id": "5000ad34"
      },
      "source": [
        "### Data Normalization"
      ]
    },
    {
      "cell_type": "code",
      "execution_count": null,
      "id": "a2b74aa8",
      "metadata": {
        "id": "a2b74aa8"
      },
      "outputs": [],
      "source": [
        "from sklearn.preprocessing import Normalizer"
      ]
    },
    {
      "cell_type": "markdown",
      "id": "2f34ab8f",
      "metadata": {
        "id": "2f34ab8f",
        "outputId": "4c432533-ebf7-4171-9066-6abe10ddaaf2"
      },
      "source": [
        "Normalizer:\n",
        "\n",
        "https://scikit-learn.org/stable/modules/generated/sklearn.preprocessing.normalize.html"
      ]
    },
    {
      "cell_type": "code",
      "execution_count": null,
      "id": "5d9d339d",
      "metadata": {
        "id": "5d9d339d"
      },
      "outputs": [],
      "source": [
        "transformer=Normalizer()"
      ]
    },
    {
      "cell_type": "code",
      "execution_count": null,
      "id": "36bf571d",
      "metadata": {
        "id": "36bf571d"
      },
      "outputs": [],
      "source": [
        "transformer.fit(df)"
      ]
    },
    {
      "cell_type": "code",
      "execution_count": null,
      "id": "42d1048e",
      "metadata": {
        "id": "42d1048e"
      },
      "outputs": [],
      "source": [
        "NormalizerData = pd.DataFrame(data=transformer.transform(df))\n",
        "NormalizerData.columns = ['X1', 'X2', 'Y']"
      ]
    },
    {
      "cell_type": "code",
      "execution_count": null,
      "id": "dc4ac91d",
      "metadata": {
        "id": "dc4ac91d"
      },
      "outputs": [],
      "source": [
        "NormalizerData"
      ]
    },
    {
      "cell_type": "code",
      "execution_count": null,
      "id": "48c84b8a",
      "metadata": {
        "id": "48c84b8a"
      },
      "outputs": [],
      "source": [
        "NormalizerData.describe()"
      ]
    },
    {
      "cell_type": "code",
      "execution_count": null,
      "id": "0fb575cc",
      "metadata": {
        "id": "0fb575cc"
      },
      "outputs": [],
      "source": [
        "ax = NormalizerData.plot.kde()"
      ]
    },
    {
      "cell_type": "markdown",
      "id": "9b42a84e",
      "metadata": {
        "id": "9b42a84e"
      },
      "source": [
        "### Read Suggestion"
      ]
    },
    {
      "cell_type": "markdown",
      "id": "5f1d850a",
      "metadata": {
        "id": "5f1d850a"
      },
      "source": [
        "Compare the effect of different scalers on data with outliers:\n",
        "\n",
        "https://scikit-learn.org/stable/auto_examples/preprocessing/plot_all_scaling.html"
      ]
    }
  ],
  "metadata": {
    "colab": {
      "provenance": [],
      "include_colab_link": true
    },
    "hide_input": false,
    "kernelspec": {
      "display_name": "Python 3 (ipykernel)",
      "language": "python",
      "name": "python3"
    },
    "language_info": {
      "codemirror_mode": {
        "name": "ipython",
        "version": 3
      },
      "file_extension": ".py",
      "mimetype": "text/x-python",
      "name": "python",
      "nbconvert_exporter": "python",
      "pygments_lexer": "ipython3",
      "version": "3.8.15"
    }
  },
  "nbformat": 4,
  "nbformat_minor": 5
}